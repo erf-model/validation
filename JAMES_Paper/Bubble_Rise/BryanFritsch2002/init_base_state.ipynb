{
 "cells": [
  {
   "cell_type": "code",
   "execution_count": 1,
   "id": "0d683ddf-90eb-4b08-8590-dc82314fc313",
   "metadata": {},
   "outputs": [],
   "source": [
    "%load_ext autoreload\n",
    "%autoreload 2"
   ]
  },
  {
   "cell_type": "code",
   "execution_count": 2,
   "id": "4ba9a10c-1068-4711-8e07-0f1f853d61d1",
   "metadata": {},
   "outputs": [],
   "source": [
    "import numpy as np\n",
    "import matplotlib.pyplot as plt\n",
    "import erftools.constants as const\n",
    "from erftools.utils.microphysics import erf_qsatw as getqvs"
   ]
  },
  {
   "cell_type": "markdown",
   "id": "15c54900-e635-49cb-8b6f-21709343303b",
   "metadata": {},
   "source": [
    "# Base state initialization based on `mbm.F`\n",
    "from George Bryan (https://www2.mmm.ucar.edu/people/bryan/Code/mbm.F)"
   ]
  },
  {
   "cell_type": "code",
   "execution_count": 3,
   "id": "a9a75c1e-64f9-4681-89fa-2c4329bc7510",
   "metadata": {},
   "outputs": [],
   "source": [
    "# user settings\n",
    "nk = 100\n",
    "dz = 100.0\n",
    "th_sfc = 289.8486 # potential temperature at surface [K]\n",
    "p_sfc = 100000.0  # pressure at surface [Pa]\n",
    "qt_mb = 0.020     # total water mixing ratio [kg/kg]\n",
    "the_ref = 320.0   # reference wet equivalent potential temperature [K]"
   ]
  },
  {
   "cell_type": "code",
   "execution_count": 4,
   "id": "4864c636-ac2f-4eb5-adc0-c773ff06792b",
   "metadata": {},
   "outputs": [],
   "source": [
    "# map constants in Bryan's code to constants in ERF\n",
    "g = const.CONST_GRAV\n",
    "to = 273.15\n",
    "rd = const.R_d\n",
    "rv = const.R_v\n",
    "cp = const.Cp_d\n",
    "cpv = const.Cp_v\n",
    "p00 = const.p_0\n",
    "rp00 = 1.0/p00\n",
    "eps = rd/rv\n",
    "reps = rv/rd\n",
    "xlv = const.L_v\n",
    "\n",
    "# NOT in ERF:\n",
    "cpl = 4190.0 # specific heat of liquid water at constant pressure\n",
    "lv1 = xlv + (cpl-cpv)*to\n",
    "lv2 = cpl - cpv"
   ]
  },
  {
   "cell_type": "code",
   "execution_count": 5,
   "id": "eb3e04b1-45ee-400f-a440-28ab20b6e82d",
   "metadata": {},
   "outputs": [],
   "source": [
    "MAXITER = 100\n",
    "TOL = 1e-4 # the_e rmse 0.14631473283308954\n",
    "#TOL = 1e-5 # the_e rmse 0.14744620851274448"
   ]
  },
  {
   "cell_type": "markdown",
   "id": "e0bf2e8f-608a-450f-a293-98e469733b48",
   "metadata": {},
   "source": [
    "## surface values\n",
    "* use definition of exner pressure to set $\\pi$ and and air temperature $T$\n",
    "* water vapor mixing ratio $q_v$ is at saturation point\n",
    "* liquid water mixing ratio $q_l$ == $q_c$, the cloud water mixing ratio, in this work\n",
    "* $q_t = q_v + q_l$\n",
    "* virtual potential temperature definition: $\\theta_v = \\theta \\frac{\\epsilon + q_v}{\\epsilon (1 + q_v + q_l)}$"
   ]
  },
  {
   "cell_type": "code",
   "execution_count": 6,
   "id": "ff904a0d-def9-4788-9467-4ab503c23ef5",
   "metadata": {},
   "outputs": [],
   "source": [
    "def calc_thv(th, qv, ql):\n",
    "    return th * (1 + reps*qv) / (1 + qv+ql)"
   ]
  },
  {
   "cell_type": "code",
   "execution_count": 7,
   "id": "1c7a769a-af26-4261-87ad-7d09667db0e6",
   "metadata": {},
   "outputs": [],
   "source": [
    "pi_sfc  = (p_sfc/p00)**(rd/cp)\n",
    "t_sfc   = th_sfc * pi_sfc\n",
    "qv_sfc  = getqvs(t_sfc, p_sfc)\n",
    "ql_sfc  = qt_mb - qv_sfc\n",
    "thv_sfc = calc_thv(th_sfc, qv_sfc, ql_sfc)"
   ]
  },
  {
   "cell_type": "code",
   "execution_count": 8,
   "id": "adcff466-8556-4a65-8682-df572805aeee",
   "metadata": {},
   "outputs": [],
   "source": [
    "t1   = t_sfc\n",
    "th1  = th_sfc\n",
    "qv1  = qv_sfc\n",
    "ql1  = ql_sfc\n",
    "p1   = p_sfc\n",
    "pi1  = pi_sfc\n",
    "thv1 = calc_thv(th1, qv1, ql1)"
   ]
  },
  {
   "cell_type": "markdown",
   "id": "2be058ef-6724-4e01-8bfd-11af63602c6b",
   "metadata": {},
   "source": [
    "## integrate up column\n",
    "* apply hydrostatic equation $\\frac{d\\pi}{dz} = - \\frac{g}{c_p\\theta_{\\rho 0}}$\n",
    "* use virtual potential temperature instead of density potential temperature"
   ]
  },
  {
   "cell_type": "code",
   "execution_count": 9,
   "id": "6907bd06-5dd8-4dc7-8bb6-ad98e13d4565",
   "metadata": {},
   "outputs": [],
   "source": [
    "t0 = np.zeros(nk)\n",
    "th0 = np.zeros(nk)\n",
    "thv0 = np.zeros(nk)\n",
    "prs0 = np.zeros(nk)\n",
    "pi0 = np.zeros(nk)\n",
    "qv0 = np.zeros(nk)\n",
    "ql0 = np.zeros(nk)"
   ]
  },
  {
   "cell_type": "code",
   "execution_count": 10,
   "id": "8b6bf738-5e8b-411a-a966-f611bb2bd390",
   "metadata": {
    "scrolled": true
   },
   "outputs": [
    {
     "name": "stdout",
     "output_type": "stream",
     "text": [
      "Level 0 converged after 7 steps\n",
      "Level 1 converged after 7 steps\n",
      "Level 2 converged after 7 steps\n",
      "Level 3 converged after 7 steps\n",
      "Level 4 converged after 8 steps\n",
      "Level 5 converged after 8 steps\n",
      "Level 6 converged after 8 steps\n",
      "Level 7 converged after 8 steps\n",
      "Level 8 converged after 8 steps\n",
      "Level 9 converged after 8 steps\n",
      "Level 10 converged after 8 steps\n",
      "Level 11 converged after 8 steps\n",
      "Level 12 converged after 9 steps\n",
      "Level 13 converged after 9 steps\n",
      "Level 14 converged after 9 steps\n",
      "Level 15 converged after 9 steps\n",
      "Level 16 converged after 9 steps\n",
      "Level 17 converged after 9 steps\n",
      "Level 18 converged after 9 steps\n",
      "Level 19 converged after 10 steps\n",
      "Level 20 converged after 10 steps\n",
      "Level 21 converged after 10 steps\n",
      "Level 22 converged after 10 steps\n",
      "Level 23 converged after 10 steps\n",
      "Level 24 converged after 10 steps\n",
      "Level 25 converged after 10 steps\n",
      "Level 26 converged after 11 steps\n",
      "Level 27 converged after 11 steps\n",
      "Level 28 converged after 11 steps\n",
      "Level 29 converged after 11 steps\n",
      "Level 30 converged after 11 steps\n",
      "Level 31 converged after 11 steps\n",
      "Level 32 converged after 12 steps\n",
      "Level 33 converged after 12 steps\n",
      "Level 34 converged after 12 steps\n",
      "Level 35 converged after 12 steps\n",
      "Level 36 converged after 12 steps\n",
      "Level 37 converged after 12 steps\n",
      "Level 38 converged after 13 steps\n",
      "Level 39 converged after 13 steps\n",
      "Level 40 converged after 13 steps\n",
      "Level 41 converged after 13 steps\n",
      "Level 42 converged after 13 steps\n",
      "Level 43 converged after 14 steps\n",
      "Level 44 converged after 14 steps\n",
      "Level 45 converged after 14 steps\n",
      "Level 46 converged after 14 steps\n",
      "Level 47 converged after 14 steps\n",
      "Level 48 converged after 14 steps\n",
      "Level 49 converged after 15 steps\n",
      "Level 50 converged after 15 steps\n",
      "Level 51 converged after 15 steps\n",
      "Level 52 converged after 15 steps\n",
      "Level 53 converged after 15 steps\n",
      "Level 54 converged after 16 steps\n",
      "Level 55 converged after 16 steps\n",
      "Level 56 converged after 16 steps\n",
      "Level 57 converged after 16 steps\n",
      "Level 58 converged after 16 steps\n",
      "Level 59 converged after 17 steps\n",
      "Level 60 converged after 17 steps\n",
      "Level 61 converged after 17 steps\n",
      "Level 62 converged after 17 steps\n",
      "Level 63 converged after 17 steps\n",
      "Level 64 converged after 18 steps\n",
      "Level 65 converged after 18 steps\n",
      "Level 66 converged after 18 steps\n",
      "Level 67 converged after 18 steps\n",
      "Level 68 converged after 18 steps\n",
      "Level 69 converged after 18 steps\n",
      "Level 70 converged after 19 steps\n",
      "Level 71 converged after 19 steps\n",
      "Level 72 converged after 19 steps\n",
      "Level 73 converged after 19 steps\n",
      "Level 74 converged after 19 steps\n",
      "Level 75 converged after 19 steps\n",
      "Level 76 converged after 19 steps\n",
      "Level 77 converged after 20 steps\n",
      "Level 78 converged after 20 steps\n",
      "Level 79 converged after 20 steps\n",
      "Level 80 converged after 20 steps\n",
      "Level 81 converged after 20 steps\n",
      "Level 82 converged after 20 steps\n",
      "Level 83 converged after 20 steps\n",
      "Level 84 converged after 20 steps\n",
      "Level 85 converged after 20 steps\n",
      "Level 86 converged after 21 steps\n",
      "Level 87 converged after 21 steps\n",
      "Level 88 converged after 21 steps\n",
      "Level 89 converged after 21 steps\n",
      "Level 90 converged after 21 steps\n",
      "Level 91 converged after 21 steps\n",
      "Level 92 converged after 21 steps\n",
      "Level 93 converged after 21 steps\n",
      "Level 94 converged after 21 steps\n",
      "Level 95 converged after 21 steps\n",
      "Level 96 converged after 21 steps\n",
      "Level 97 converged after 21 steps\n",
      "Level 98 converged after 21 steps\n",
      "Level 99 converged after 21 steps\n"
     ]
    }
   ],
   "source": [
    "for k in range(nk):\n",
    "    \n",
    "    # staggered grid: first grid level is 1/2 dz above ground\n",
    "    delz = 0.5*dz if k==0 else dz\n",
    "\n",
    "    thlast = th1\n",
    "    th2 = th1\n",
    "    thv2 = thv1\n",
    "    \n",
    "    n = 0\n",
    "    converged = False\n",
    "    while not converged:\n",
    "        \n",
    "        pi2 = pi1 - delz * g / (cp*0.5*(thv1+thv2))\n",
    "        p2 = p00 * pi2**(cp/rd)\n",
    "        t2 = thlast * pi2\n",
    "        qv2 = getqvs(t2, p2)\n",
    "        ql2 = qt_mb - qv2\n",
    "        thv2 = calc_thv(th2, qv2, ql2)\n",
    "        \n",
    "        tbar = 0.5*(t1+t2)\n",
    "        qvbar = 0.5*(qv1+qv2)\n",
    "        qlbar = 0.5*(ql1+ql2)\n",
    "\n",
    "        lhv = lv1 - lv2*tbar\n",
    "        rm = rd + rv*qvbar\n",
    "        cpm = cp + cpv*qvbar + cpl*qlbar\n",
    "\n",
    "        # model-specific thermodynamic equation here\n",
    "        th2 = th1 * np.exp( -lhv * (qv2-qv1) / (cpm*tbar)\n",
    "                           + (rm/cpm - rd/cp) * np.log(p2/p1) )\n",
    "        \n",
    "        diff = th2 - thlast\n",
    "        if np.abs(diff) > TOL:\n",
    "            thlast = thlast + 0.30*(th2-thlast)\n",
    "        else:\n",
    "            converged = True\n",
    "\n",
    "        n += 1\n",
    "        assert n < MAXITER, 'Error: Solution is not converging'\n",
    "\n",
    "    print('Level',k,'converged after',n,'steps')\n",
    "\n",
    "    t2 = th2 * pi2\n",
    "    qv2 = getqvs(t2, p2)\n",
    "    ql2 = qt_mb - qv2\n",
    "    assert ql2 > 0, 'Error: ql < 0'\n",
    "    \n",
    "    thv2 = calc_thv(th2, qv2, ql2)\n",
    "    \n",
    "    t0[k] = t2\n",
    "    th0[k] = th2\n",
    "    thv0[k] = thv2\n",
    "    prs0[k] = p2\n",
    "    pi0[k] = pi2\n",
    "    qv0[k] = qv2\n",
    "    ql0[k] = ql2\n",
    "\n",
    "    t1 = t2\n",
    "    th1 = th2\n",
    "    thv1 = thv2\n",
    "    p1 = p2\n",
    "    pi1 = pi2\n",
    "    qv1 = qv2\n",
    "    ql1 = ql2"
   ]
  },
  {
   "cell_type": "markdown",
   "id": "c6d10b32-8020-4be7-8255-678badf266be",
   "metadata": {},
   "source": [
    "## plot profiles"
   ]
  },
  {
   "cell_type": "code",
   "execution_count": 11,
   "id": "0cfb8494-7812-4db7-82f8-eb6e831b7461",
   "metadata": {},
   "outputs": [],
   "source": [
    "zlevels = dz/2 + np.arange(nk)*dz"
   ]
  },
  {
   "cell_type": "code",
   "execution_count": 12,
   "id": "dc2d7777-2f54-45f5-a523-53daf4b59d45",
   "metadata": {},
   "outputs": [],
   "source": [
    "Tv0 = thv0 * pi0 # virtual temperature\n",
    "dens0 = prs0 / (rd*Tv0)"
   ]
  },
  {
   "cell_type": "code",
   "execution_count": 13,
   "id": "772c9255-22d1-4042-964e-0bbf0c74e0ff",
   "metadata": {},
   "outputs": [
    {
     "data": {
      "image/png": "[encoded data removed]",
      "text/plain": [
       "<Figure size 1400x600 with 5 Axes>"
      ]
     },
     "metadata": {},
     "output_type": "display_data"
    }
   ],
   "source": [
    "fig,axs = plt.subplots(ncols=5,sharey=True,figsize=(14,6))\n",
    "\n",
    "axs[0].plot(pi0, zlevels)\n",
    "axs[0].set_xlabel(r'$\\pi$ [$-$]')\n",
    "\n",
    "axs[1].plot(th0, zlevels)\n",
    "axs[1].set_xlabel(r'$\\theta$ [K]')\n",
    "\n",
    "axs[2].plot(prs0, zlevels)\n",
    "axs[2].set_xlabel(r'$p$ [Pa]')\n",
    "\n",
    "axs[3].plot(dens0, zlevels)\n",
    "axs[3].set_xlabel(r'moist $\\rho$ [kg/m$^3$]')\n",
    "\n",
    "axs[4].plot(qv0, zlevels)\n",
    "axs[4].set_xlabel(r'$q_v$ [kg/kg]')\n",
    "\n",
    "axs[0].set_ylabel(r'$z$ [m]')\n",
    "for ax in axs:\n",
    "    ax.grid()\n",
    "\n",
    "fig.savefig('BryanFritsch2002_moist_sounding.png',bbox_inches='tight')"
   ]
  },
  {
   "cell_type": "markdown",
   "id": "5f715679-998d-411b-96ee-1bd8e792a74d",
   "metadata": {},
   "source": [
    "## check saturation conditions"
   ]
  },
  {
   "cell_type": "code",
   "execution_count": 14,
   "id": "55e23c5f-9c46-4553-9b38-4a753f7e327c",
   "metadata": {},
   "outputs": [],
   "source": [
    "qvs = np.array([getqvs(t0_k, p0_k) for t0_k,p0_k in zip(t0, prs0)])"
   ]
  },
  {
   "cell_type": "code",
   "execution_count": 15,
   "id": "31682fd3-8a5c-46be-b0b0-c47220e366be",
   "metadata": {},
   "outputs": [],
   "source": [
    "assert np.all(qv0 == qvs)"
   ]
  },
  {
   "cell_type": "markdown",
   "id": "42632906-a58d-4e3d-917a-c454cc9c74b7",
   "metadata": {},
   "source": [
    "## check $\\theta_e$\n",
    "\n",
    "NOTE: this is only approximately satisfied"
   ]
  },
  {
   "cell_type": "raw",
   "id": "c5aedec4-ed3b-4494-97db-0a88d0182ace",
   "metadata": {},
   "source": [
    "# calc dry pressure\n",
    "e0 = qv0 / (qv0 + eps) * prs0\n",
    "pd0 = prs0 - e0"
   ]
  },
  {
   "cell_type": "code",
   "execution_count": 16,
   "id": "cb17a565-14b9-4ede-b343-ceb15c18debc",
   "metadata": {},
   "outputs": [],
   "source": [
    "# calc dry pressure -- do we need to account for the cloud contribution to total pressure?\n",
    "e0 = qv0 / (qt_mb + eps) * prs0\n",
    "pd0 = prs0 - e0"
   ]
  },
  {
   "cell_type": "code",
   "execution_count": 17,
   "id": "4ef4ea57-7231-4894-bbd4-7543572686c7",
   "metadata": {},
   "outputs": [
    {
     "name": "stdout",
     "output_type": "stream",
     "text": [
      "0.14631473283308954\n"
     ]
    }
   ],
   "source": [
    "denom = cp + cpl*qt_mb\n",
    "th_e = t0 * (pd0/p00)**(-rd/denom) * np.exp(xlv*qv0 / (denom*t0))\n",
    "\n",
    "print(np.std(th_e - the_ref))"
   ]
  },
  {
   "cell_type": "code",
   "execution_count": 18,
   "id": "3602c740-a5ec-48d7-b765-f6197e76847d",
   "metadata": {},
   "outputs": [
    {
     "data": {
      "text/plain": [
       "<matplotlib.lines.Line2D at 0x117083e90>"
      ]
     },
     "execution_count": 18,
     "metadata": {},
     "output_type": "execute_result"
    },
    {
     "data": {
      "image/png": "[encoded data removed]",
      "text/plain": [
       "<Figure size 640x480 with 1 Axes>"
      ]
     },
     "metadata": {},
     "output_type": "display_data"
    }
   ],
   "source": [
    "fig,ax = plt.subplots()\n",
    "ax.plot(th_e, zlevels)\n",
    "ax.axvline(the_ref, color='k', ls='--')"
   ]
  },
  {
   "cell_type": "markdown",
   "id": "441b2270-225c-4b39-89fc-5dd24315306f",
   "metadata": {},
   "source": [
    "## write out sounding"
   ]
  },
  {
   "cell_type": "code",
   "execution_count": 19,
   "id": "8720a85b-1b0a-494f-acea-d9d8b9075c81",
   "metadata": {},
   "outputs": [],
   "source": [
    "with open('BryanFritsch2002_moist_sounding','w') as f:\n",
    "    # note: water vapor mixing ratio units are g/kg\n",
    "    f.write(f'{p_sfc/100:g} {th_sfc:g} {qv_sfc*1000:g}\\n')\n",
    "    for k,zlev in enumerate(zlevels):\n",
    "        f.write(f'{zlev:4g} {th0[k]:g} {qv0[k]*1000:g} 0 0\\n')"
   ]
  },
  {
   "cell_type": "code",
   "execution_count": null,
   "id": "38eaa86a-5f02-4cee-ac4b-8b6aef9ea83e",
   "metadata": {},
   "outputs": [],
   "source": []
  }
 ],
 "metadata": {
  "kernelspec": {
   "display_name": "forge",
   "language": "python",
   "name": "forge"
  },
  "language_info": {
   "codemirror_mode": {
    "name": "ipython",
    "version": 3
   },
   "file_extension": ".py",
   "mimetype": "text/x-python",
   "name": "python",
   "nbconvert_exporter": "python",
   "pygments_lexer": "ipython3",
   "version": "3.11.5"
  }
 },
 "nbformat": 4,
 "nbformat_minor": 5
}
